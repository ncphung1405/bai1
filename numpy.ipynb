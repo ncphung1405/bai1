{
  "nbformat": 4,
  "nbformat_minor": 0,
  "metadata": {
    "colab": {
      "name": "numpy",
      "provenance": [],
      "include_colab_link": true
    },
    "kernelspec": {
      "name": "python3",
      "display_name": "Python 3"
    }
  },
  "cells": [
    {
      "cell_type": "markdown",
      "metadata": {
        "id": "view-in-github",
        "colab_type": "text"
      },
      "source": [
        "<a href=\"https://colab.research.google.com/github/ncphung1405/bai1/blob/main/numpy.ipynb\" target=\"_parent\"><img src=\"https://colab.research.google.com/assets/colab-badge.svg\" alt=\"Open In Colab\"/></a>"
      ]
    },
    {
      "cell_type": "markdown",
      "metadata": {
        "id": "-kKDPtVhV-1c"
      },
      "source": [
        "**Đây là chương trình đầu tiên**"
      ]
    },
    {
      "cell_type": "code",
      "metadata": {
        "id": "FWe7pmTHcjoC",
        "colab": {
          "base_uri": "https://localhost:8080/"
        },
        "outputId": "b79e5f23-da67-4a53-dadc-d1957073a046"
      },
      "source": [
        "#1.Numpy:\r\n",
        "  #- Tạo ma trận:\r\n",
        "import numpy as np \r\n",
        "a = np.array(([(2,3,4,5), (4,6,4,8)],\r\n",
        "              [(2,4,6,2), (3,6,7,2)],\r\n",
        "              [(4,6,3,2), (4,7,9,0)]),dtype=int)\r\n",
        "print(\"Ma trận A= \",a)\r\n",
        "\r\n",
        "  #- Tính tổng 2 ma trận:\r\n",
        "import numpy as np\r\n",
        "a = np.array(([(2,3,5,6), (2,7,8,4)]),dtype = int)\r\n",
        "b = np.array(([(2,9,0,1), (7,4,7,8)]),dtype = int) \r\n",
        "print(\"ma trận A= \",a)\r\n",
        "print(\"ma trận B= \",b)\r\n",
        "print(\"ma trận A+B= \", a+b)\r\n",
        "\r\n",
        "  #- Tính tích hai ma trận:\r\n",
        "import numpy as np \r\n",
        "a = np.array(([((6,8),(3,9)), ((6,3),(8,3))]),dtype = int)\r\n",
        "b = np.array(([(5,7,3,7), (6,2,7,2)]),dtype = int)\r\n",
        "print(\"ma trận C= \",a)\r\n",
        "print(\"ma trận D= \",b)\r\n",
        "print(\"ma trận C*D \", a @ b)\r\n",
        " "
      ],
      "execution_count": null,
      "outputs": [
        {
          "output_type": "stream",
          "text": [
            "Ma trận A=  [[[2 3 4 5]\n",
            "  [4 6 4 8]]\n",
            "\n",
            " [[2 4 6 2]\n",
            "  [3 6 7 2]]\n",
            "\n",
            " [[4 6 3 2]\n",
            "  [4 7 9 0]]]\n",
            "ma trận A=  [[2 3 5 6]\n",
            " [2 7 8 4]]\n",
            "ma trận B=  [[2 9 0 1]\n",
            " [7 4 7 8]]\n",
            "ma trận A+B=  [[ 4 12  5  7]\n",
            " [ 9 11 15 12]]\n",
            "ma trận C=  [[[6 8]\n",
            "  [3 9]]\n",
            "\n",
            " [[6 3]\n",
            "  [8 3]]]\n",
            "ma trận D=  [[5 7 3 7]\n",
            " [6 2 7 2]]\n",
            "ma trận C*D  [[[78 58 74 58]\n",
            "  [69 39 72 39]]\n",
            "\n",
            " [[48 48 39 48]\n",
            "  [58 62 45 62]]]\n"
          ],
          "name": "stdout"
        }
      ]
    }
  ]
}