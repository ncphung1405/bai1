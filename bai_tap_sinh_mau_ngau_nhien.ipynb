{
  "nbformat": 4,
  "nbformat_minor": 0,
  "metadata": {
    "kernelspec": {
      "display_name": "Python 3",
      "language": "python",
      "name": "python3"
    },
    "language_info": {
      "codemirror_mode": {
        "name": "ipython",
        "version": 3
      },
      "file_extension": ".py",
      "mimetype": "text/x-python",
      "name": "python",
      "nbconvert_exporter": "python",
      "pygments_lexer": "ipython3",
      "version": "3.7.3"
    },
    "colab": {
      "name": "bai-tap-sinh-mau-ngau-nhien.ipynb",
      "provenance": [],
      "include_colab_link": true
    }
  },
  "cells": [
    {
      "cell_type": "markdown",
      "metadata": {
        "id": "view-in-github",
        "colab_type": "text"
      },
      "source": [
        "<a href=\"https://colab.research.google.com/github/ncphung1405/bai1/blob/main/bai_tap_sinh_mau_ngau_nhien.ipynb\" target=\"_parent\"><img src=\"https://colab.research.google.com/assets/colab-badge.svg\" alt=\"Open In Colab\"/></a>"
      ]
    },
    {
      "cell_type": "markdown",
      "metadata": {
        "id": "FxguVg8bVwbS"
      },
      "source": [
        "Sử dụng thư viện Numpy\n",
        "\n",
        "1. Sinh mẫu ngẫu nhiên bằng hàm arange trong khoảng [-15, 27] với khoảng cách là 0.7 và in kết quả ra màn hình"
      ]
    },
    {
      "cell_type": "code",
      "metadata": {
        "id": "Ob8AYjjKbu_H",
        "outputId": "fe96c324-870c-492e-cbb2-860d8dd551eb",
        "colab": {
          "base_uri": "https://localhost:8080/"
        }
      },
      "source": [
        "import numpy as np\n",
        "np.arange(-15,27,0.7)\n"
      ],
      "execution_count": 1,
      "outputs": [
        {
          "output_type": "execute_result",
          "data": {
            "text/plain": [
              "array([-15. , -14.3, -13.6, -12.9, -12.2, -11.5, -10.8, -10.1,  -9.4,\n",
              "        -8.7,  -8. ,  -7.3,  -6.6,  -5.9,  -5.2,  -4.5,  -3.8,  -3.1,\n",
              "        -2.4,  -1.7,  -1. ,  -0.3,   0.4,   1.1,   1.8,   2.5,   3.2,\n",
              "         3.9,   4.6,   5.3,   6. ,   6.7,   7.4,   8.1,   8.8,   9.5,\n",
              "        10.2,  10.9,  11.6,  12.3,  13. ,  13.7,  14.4,  15.1,  15.8,\n",
              "        16.5,  17.2,  17.9,  18.6,  19.3,  20. ,  20.7,  21.4,  22.1,\n",
              "        22.8,  23.5,  24.2,  24.9,  25.6,  26.3,  27. ])"
            ]
          },
          "metadata": {
            "tags": []
          },
          "execution_count": 1
        }
      ]
    },
    {
      "cell_type": "markdown",
      "metadata": {
        "id": "SqOJ9vb0VwbV"
      },
      "source": [
        "2. Sinh mẫu ngẫu nhiên theo phân phối chuẩn với mean = 2.7 std = 1.2 và size = 40\n",
        "In kết quả ra màn hình"
      ]
    },
    {
      "cell_type": "code",
      "metadata": {
        "id": "gOcU7MDMVwbV",
        "outputId": "a29c7306-1912-40cb-a625-56bb4fee8b75",
        "colab": {
          "base_uri": "https://localhost:8080/"
        }
      },
      "source": [
        " np.random.normal(loc = 2.7, scale = 1.2, size = 40)"
      ],
      "execution_count": 2,
      "outputs": [
        {
          "output_type": "execute_result",
          "data": {
            "text/plain": [
              "array([ 2.64037927,  2.19886958,  1.70385607,  2.91400149,  1.72858906,\n",
              "        1.93434512,  0.97254605,  1.89019953,  3.4621967 ,  3.14704957,\n",
              "        1.79792346,  2.1775701 ,  3.89749553,  2.80199108,  3.40136661,\n",
              "        3.03516386, -0.57510033,  1.7997329 ,  1.83790418,  4.1108094 ,\n",
              "        1.38926524,  2.85865078,  1.29663534,  2.76869723,  5.79494733,\n",
              "        1.80810384,  5.76035935,  3.26673288,  1.25811095,  2.04032819,\n",
              "        1.70664882,  3.58022982,  2.93487687,  2.43798796,  4.26876431,\n",
              "        0.64813412,  2.53695285,  1.37072114,  1.62649744,  4.00460177])"
            ]
          },
          "metadata": {
            "tags": []
          },
          "execution_count": 2
        }
      ]
    },
    {
      "cell_type": "markdown",
      "metadata": {
        "id": "SXGJr0SiVwbV"
      },
      "source": [
        "3. Sinh mẫu ngẫu nhiên từ vector ['Viet Nam', 'Britain', 'France', 'Russia', 'Singapore'] \n",
        "\n",
        "với kích thước là 17 theo phân phối chuẩn"
      ]
    },
    {
      "cell_type": "code",
      "metadata": {
        "id": "KzKCwnXuVwbV",
        "outputId": "648844e0-2faf-4063-911e-54b697988ec7",
        "colab": {
          "base_uri": "https://localhost:8080/"
        }
      },
      "source": [
        "np.random.choice(['Viet Nam', 'Britain', 'France', 'Russia', 'Singapore'], 17)"
      ],
      "execution_count": 6,
      "outputs": [
        {
          "output_type": "execute_result",
          "data": {
            "text/plain": [
              "array(['Britain', 'Viet Nam', 'Viet Nam', 'Viet Nam', 'Singapore',\n",
              "       'Viet Nam', 'Singapore', 'Russia', 'Singapore', 'Britain',\n",
              "       'Britain', 'Singapore', 'Britain', 'Britain', 'France', 'Britain',\n",
              "       'Viet Nam'], dtype='<U9')"
            ]
          },
          "metadata": {
            "tags": []
          },
          "execution_count": 6
        }
      ]
    },
    {
      "cell_type": "markdown",
      "metadata": {
        "id": "TIAYAekGVwbW"
      },
      "source": [
        "4. Sinh mẫu ngẫu nhiên ở câu 3 nhưng không theo phân phối chuẩn mà theo 1 vector đặc tả giá trị xác suất do bạn chọn"
      ]
    },
    {
      "cell_type": "code",
      "metadata": {
        "id": "ArcJwlrAewoQ",
        "outputId": "24888809-c9ad-4c0b-b281-80bd454ec6a4",
        "colab": {
          "base_uri": "https://localhost:8080/"
        }
      },
      "source": [
        "sample_8 = np.random.choice(['Viet Nam', 'Britain', 'France', 'Russia', 'Singapore'], 9, p = [0.4, 0.2, 0.1, 0.1, 0.2])\n",
        "print(sample_8)"
      ],
      "execution_count": 22,
      "outputs": [
        {
          "output_type": "stream",
          "text": [
            "['Viet Nam' 'Viet Nam' 'Singapore' 'Viet Nam' 'Britain' 'Britain'\n",
            " 'Britain' 'Russia' 'Viet Nam']\n"
          ],
          "name": "stdout"
        }
      ]
    },
    {
      "cell_type": "markdown",
      "metadata": {
        "id": "cEze8ndjVwbW"
      },
      "source": [
        "Sử dụng thư việc scipy.stats để sinh mẫu ngẫu nhiên\n",
        "\n",
        "1. Sinh mẫu ngẫu nhiên theo phân phối chuẩn với mean = 12.7, std = 2.6 và size = 30. In kết quả ra màn hình"
      ]
    },
    {
      "cell_type": "code",
      "metadata": {
        "id": "fQlqZieNVwbW",
        "outputId": "39e0966a-f68a-4b17-df66-f6ff0a5f6cc8",
        "colab": {
          "base_uri": "https://localhost:8080/"
        }
      },
      "source": [
        "#Code\n",
        "from scipy import stats\n",
        "stats.norm.rvs(loc = 12.7, scale = 2.6, size = 30)"
      ],
      "execution_count": 23,
      "outputs": [
        {
          "output_type": "execute_result",
          "data": {
            "text/plain": [
              "array([10.09126685, 13.42117596, 11.31318916, 13.61274283,  7.91374034,\n",
              "       13.76559921,  9.09173452, 13.39215062, 12.84106529, 12.18501815,\n",
              "       10.0203266 , 10.43125315, 11.05384495, 14.05482399, 13.45081107,\n",
              "       11.63344235, 12.51982958, 11.91426138, 12.5782205 , 15.75600812,\n",
              "       11.04542162, 15.20234502, 10.832442  , 13.35592301,  7.25696335,\n",
              "       16.39187417, 10.70463444, 11.82113372, 10.60101592, 12.38820168])"
            ]
          },
          "metadata": {
            "tags": []
          },
          "execution_count": 23
        }
      ]
    },
    {
      "cell_type": "markdown",
      "metadata": {
        "id": "hLn30lDFVwbX"
      },
      "source": [
        "2. Hãy sinh một mẫu ngẫu nhiên theo phân phối Poisson"
      ]
    },
    {
      "cell_type": "code",
      "metadata": {
        "id": "A-gJExY_gJM4",
        "outputId": "16eb670e-2cd9-4e67-d345-4ab9808462c2",
        "colab": {
          "base_uri": "https://localhost:8080/"
        }
      },
      "source": [
        "stats.poisson.rvs(loc=100,\n",
        "                   mu=20,\n",
        "                   size=50)\n"
      ],
      "execution_count": 24,
      "outputs": [
        {
          "output_type": "execute_result",
          "data": {
            "text/plain": [
              "array([120, 127, 117, 122, 119, 116, 122, 118, 117, 118, 118, 122, 117,\n",
              "       119, 120, 119, 114, 119, 126, 116, 117, 123, 119, 121, 113, 120,\n",
              "       121, 106, 120, 118, 122, 116, 127, 113, 115, 122, 117, 121, 114,\n",
              "       110, 114, 129, 115, 114, 129, 120, 111, 121, 120, 125])"
            ]
          },
          "metadata": {
            "tags": []
          },
          "execution_count": 24
        }
      ]
    }
  ]
}