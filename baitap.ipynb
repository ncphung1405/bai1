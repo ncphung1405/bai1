{
  "nbformat": 4,
  "nbformat_minor": 0,
  "metadata": {
    "colab": {
      "name": "baitap.ipynb",
      "provenance": [],
      "include_colab_link": true
    },
    "kernelspec": {
      "name": "python3",
      "display_name": "Python 3"
    }
  },
  "cells": [
    {
      "cell_type": "markdown",
      "metadata": {
        "id": "view-in-github",
        "colab_type": "text"
      },
      "source": [
        "<a href=\"https://colab.research.google.com/github/ncphung1405/bai1/blob/main/baitap.ipynb\" target=\"_parent\"><img src=\"https://colab.research.google.com/assets/colab-badge.svg\" alt=\"Open In Colab\"/></a>"
      ]
    },
    {
      "cell_type": "code",
      "metadata": {
        "id": "I_S33rZrQPwj"
      },
      "source": [
        "import re\r\n",
        "import requests\r\n",
        "from bs4 import BeautifulSoup"
      ],
      "execution_count": null,
      "outputs": []
    },
    {
      "cell_type": "code",
      "metadata": {
        "id": "vOyv0lmcRBRc"
      },
      "source": [
        "link = requests.get('https://www.24h.com.vn/the-thao-c101.html')"
      ],
      "execution_count": null,
      "outputs": []
    },
    {
      "cell_type": "code",
      "metadata": {
        "id": "XFq9cB7lRSjA"
      },
      "source": [
        "link_soup = BeautifulSoup(link.text,'html.parser')"
      ],
      "execution_count": null,
      "outputs": []
    },
    {
      "cell_type": "code",
      "metadata": {
        "id": "KbqIDr3-SQYI"
      },
      "source": [
        "results = link_soup('a', attrs={'href':True})"
      ],
      "execution_count": null,
      "outputs": []
    },
    {
      "cell_type": "code",
      "metadata": {
        "colab": {
          "base_uri": "https://localhost:8080/"
        },
        "id": "TQsXv8ZJSrtO",
        "outputId": "4faafd00-0f70-45b6-dffd-c15162d25ea6"
      },
      "source": [
        "results[0:10]"
      ],
      "execution_count": null,
      "outputs": [
        {
          "output_type": "execute_result",
          "data": {
            "text/plain": [
              "[<a href=\"https://www.24h.com.vn/bong-da-c48.html\" title=\"Bóng đá\">\n",
              " <span class=\"icoMenuTop\"><img alt=\"\" class=\"initial loaded\" src=\"https://image-us.24h.com.vn/upload/4-2018/images/2018-11-05/bongda-1541392663-85-width20height20.png\"/></span>\n",
              " <span class=\"tit\">Bóng đá</span>\n",
              " </a>,\n",
              " <a href=\"https://www.24h.com.vn/thoi-trang-hi-tech-c407.html\" title=\"Thời trang Hi-tech\">\n",
              " <span class=\"icoMenuTop\"><img alt=\"\" class=\"initial loaded\" src=\"https://image-us.24h.com.vn/upload/4-2018/images/2018-11-05/hitech-1541392663-211-width20height20.png\"/></span>\n",
              " <span class=\"tit\">Hi-tech</span>\n",
              " </a>,\n",
              " <a href=\"https://www.24h.com.vn/kinh-doanh-c161.html\" title=\"Kinh doanh\">\n",
              " <span class=\"icoMenuTop\"><img alt=\"\" class=\"initial loaded\" src=\"https://image-us.24h.com.vn/upload/4-2018/images/2018-11-05/taichinh-1541392663-984-width19height19.png\"/></span>\n",
              " <span class=\"tit\">Kinh doanh</span>\n",
              " </a>,\n",
              " <a href=\"https://www.24h.com.vn/cong-nghe-thong-tin-c55.html\" title=\"Công nghệ thông tin\">\n",
              " <span class=\"icoMenuTop\"><img alt=\"\" class=\"initial loaded\" src=\"https://image-us.24h.com.vn/upload/4-2018/images/2018-11-05/congnghe-1541392663-972-width19height18.png\"/></span>\n",
              " <span class=\"tit\">Công nghệ</span>\n",
              " </a>,\n",
              " <a href=\"https://www.24h.com.vn/o-to-c747.html\" title=\"Ô tô\">\n",
              " <span class=\"icoMenuTop\"><img alt=\"\" class=\"initial loaded\" src=\"https://image-us.24h.com.vn/upload/4-2018/images/2018-11-05/oto-1541392663-766-width24height15.png\"/></span>\n",
              " <span class=\"tit\">Ô tô</span>\n",
              " </a>,\n",
              " <a href=\"https://www.24h.com.vn/xe-may-xe-dap-c748.html\" title=\"Xe máy - Xe đạp\">\n",
              " <span class=\"icoMenuTop\"><img alt=\"\" class=\"initial loaded\" src=\"https://image-us.24h.com.vn/upload/4-2018/images/2018-11-05/xemay-1541392663-379-width24height17.png\"/></span>\n",
              " <span class=\"tit\">Xe máy - Xe đạp</span>\n",
              " </a>,\n",
              " <a href=\"https://www.24h.com.vn/tong-hop-video.html\" title=\"Video\">\n",
              " <span class=\"icoMenuTop\"><img alt=\"\" class=\"initial loaded\" src=\"https://image-us.24h.com.vn/upload/4-2018/images/2018-11-05/video-1541392663-39-width20height18.png\"/></span>\n",
              " <span class=\"tit\">Video</span>\n",
              " </a>,\n",
              " <a href=\"https://www.24h.com.vn/suc-khoe-doi-song-c62.html\" title=\"Sức khỏe đời sống\">\n",
              " <span class=\"icoMenuTop\"><img alt=\"\" class=\"initial loaded\" src=\"https://image-us.24h.com.vn/upload/4-2018/images/2018-11-05/suckhoe-1541392663-478-width20height18.png\"/></span>\n",
              " <span class=\"tit\">Sức khỏe</span>\n",
              " </a>,\n",
              " <a href=\"https://eva.vn/\" rel=\"nofollow\" target=\"_blank\" title=\"Phái đẹp\">\n",
              " <span class=\"icoMenuTop\"><img alt=\"\" class=\"initial loaded\" src=\"https://image-us.24h.com.vn/upload/4-2018/images/2018-11-05/eva-1541392663-334-width16height20.png\"/></span>\n",
              " <span class=\"tit\">Phái đẹp</span>\n",
              " </a>,\n",
              " <a href=\"https://www.24h.com.vn/cuoi-24h-c746.html\" title=\"Cười 24H\">\n",
              " <span class=\"icoMenuTop\"><img alt=\"\" class=\"initial loaded\" src=\"https://image-us.24h.com.vn/upload/4-2019/images/2019-12-13/cuoi-1576232920-413-width20height20.png\"/></span>\n",
              " <span class=\"tit\">Cười 24h</span>\n",
              " </a>]"
            ]
          },
          "metadata": {
            "tags": []
          },
          "execution_count": 7
        }
      ]
    },
    {
      "cell_type": "code",
      "metadata": {
        "id": "7cCOpmQATLVp"
      },
      "source": [
        "a= set()\r\n",
        "for i in results:\r\n",
        "    a.add(i['href'])"
      ],
      "execution_count": null,
      "outputs": []
    },
    {
      "cell_type": "code",
      "metadata": {
        "colab": {
          "base_uri": "https://localhost:8080/"
        },
        "id": "Q0qST4BTUjev",
        "outputId": "c4589796-f8ee-4052-9de3-45634aa15ca7"
      },
      "source": [
        "list(a)[0:20]"
      ],
      "execution_count": null,
      "outputs": [
        {
          "output_type": "execute_result",
          "data": {
            "text/plain": [
              "['http://www.facebook.com/fan24h',\n",
              " 'javascript:void(0);',\n",
              " \"javascript:AjaxAction('div_box_bai_viet_cung_chuyen_muc_101','%2Fajax%2Fbox_bai_viet_cung_chuyen_muc%2Findex%2F101%2F0%2F9%2F1%2F10%2Ftoday%2F0%2F0%2F0%2F1%2F10%2F0%3Fv_device_global%3D%26page%3D4');\",\n",
              " 'https://www.24h.com.vn/tin-tuc-the-thao/sieu-hung-tranh-dau-mang-bat-ngo-toi-mien-tay-c684a1210601.html',\n",
              " 'https://www.24h.com.vn/the-thao/lich-thi-dau-livescore-tennis-hom-nay-c101a386333.html',\n",
              " 'https://www.24h.com.vn/bong-da-ngoai-hang-anh-c149.html',\n",
              " 'https://www.24h.com.vn/the-thao/fan-tennis-do-mat-vi-sharapova-thay-ao-giua-ban-ngay-bi-quay-trom-c101a1219728.html',\n",
              " 'https://eva.vn/thoi-trang-sao/tung-bi-chi-trich-vi-mac-vay-khoe-cap-tuyet-le-phan-cam-hoa-hau-9x-gio-ho-tinh-te-c269a462352.html',\n",
              " 'https://www.24h.com.vn/bong-da/truc-tiep-bong-da-ha-noi-binh-duong-vung-len-tim-lai-ban-sac-c48a1220176.html',\n",
              " 'https://www.24h.com.vn/ban-tre-cuoc-song/co-gai-19-tuoi-sinh-con-dan-luc-6-nguoi-dan-ong-den-xet-nghiem-adn-c64a1218648.html',\n",
              " 'https://www.24h.com.vn/the-thao/xon-xao-nguoi-dep-bong-chuyen-pham-kim-hue-khoe-ban-trai-bi-an-c101a1219674.html',\n",
              " 'https://eva.vn/lang-sao/em-ut-cam-ly-cuoi-21-nam-van-chua-co-con-chong-giau-noi-mot-cau-da-thay-nhe-long-c20a462393.html',\n",
              " 'https://www.24h.com.vn/the-thao-c101.html?vpage=2',\n",
              " '/tennis-c119.html',\n",
              " '#',\n",
              " 'https://www.24h.com.vn/tin-tuc-the-thao/gala-giai-thuong-vga-awards-2020-vinh-danh-17-ca-nhan-va-tap-the-xuat-sac-va-ra-mat-quy-phat-trien-golf-tre-c684a1219506.html',\n",
              " '/bong-da-ngoai-hang-anh-c149.html',\n",
              " 'https://www.24h.com.vn/tin-tuc-the-thao/giai-bong-da-phui-spl-s3-kardiachain-sai-gon-tien-sat-ngoi-vuong-c684a1207203.html',\n",
              " 'https://www.24h.com.vn/the-thao-c101.html?vpage=6',\n",
              " '/nguoi-mau-hoa-hau-c214.html']"
            ]
          },
          "metadata": {
            "tags": []
          },
          "execution_count": 9
        }
      ]
    },
    {
      "cell_type": "code",
      "metadata": {
        "id": "0Y9yNa-oYFTm"
      },
      "source": [
        "mau = '^(http).*(html)$'\r\n",
        "url = 'https://www.24h.com.vn/bong-da/pogba-thang-hoa-o-mu-co-thuc-su-nang-tam-so-voi-truoc-clip-1-phut-bong-da-24h-c48a1220245.html'\r\n",
        "url_2 = 'https://www.24h.com.vn/lich-thi-dau-bong-da-c287.html'"
      ],
      "execution_count": null,
      "outputs": []
    },
    {
      "cell_type": "code",
      "metadata": {
        "colab": {
          "base_uri": "https://localhost:8080/"
        },
        "id": "xHPutFcCYu-G",
        "outputId": "d5a6028e-9b37-436d-a437-bc14ac390cb8"
      },
      "source": [
        "re.match(mau,url)"
      ],
      "execution_count": null,
      "outputs": [
        {
          "output_type": "execute_result",
          "data": {
            "text/plain": [
              "<_sre.SRE_Match object; span=(0, 125), match='https://www.24h.com.vn/bong-da/pogba-thang-hoa-o->"
            ]
          },
          "metadata": {
            "tags": []
          },
          "execution_count": 24
        }
      ]
    },
    {
      "cell_type": "code",
      "metadata": {
        "colab": {
          "base_uri": "https://localhost:8080/"
        },
        "id": "i1aQRuLTZd7F",
        "outputId": "f93a6d68-9562-4c1c-b8e2-2f72d7cb6708"
      },
      "source": [
        "re.match(mau,url_2)"
      ],
      "execution_count": null,
      "outputs": [
        {
          "output_type": "execute_result",
          "data": {
            "text/plain": [
              "<_sre.SRE_Match object; span=(0, 53), match='https://www.24h.com.vn/lich-thi-dau-bong-da-c287.>"
            ]
          },
          "metadata": {
            "tags": []
          },
          "execution_count": 25
        }
      ]
    },
    {
      "cell_type": "code",
      "metadata": {
        "id": "Rg8ILyweZnYl"
      },
      "source": [
        "url_tim_duoc = set()\r\n",
        "for i in results:\r\n",
        "    a = i['href']\r\n",
        "    mau = '^(http).*(html|epi)$'\r\n",
        "    mau2 = '^/.*(html|epi)$'\r\n",
        "    if re.match(mau, a):\r\n",
        "        url_tim_duoc.add(a)\r\n",
        "    else:\r\n",
        "        if re.match(mau2, a):\r\n",
        "            url_lien_quan = 'https://www.24h.com.vn/the-thao-c101.html' + a\r\n",
        "            url_tim_duoc.add(url_lien_quan)"
      ],
      "execution_count": null,
      "outputs": []
    },
    {
      "cell_type": "code",
      "metadata": {
        "colab": {
          "base_uri": "https://localhost:8080/"
        },
        "id": "3L4cehD0aXML",
        "outputId": "804a23f0-b7fc-44d2-a4fc-d0c26ee15ee0"
      },
      "source": [
        "list(url_tim_duoc)[0:10]"
      ],
      "execution_count": null,
      "outputs": [
        {
          "output_type": "execute_result",
          "data": {
            "text/plain": [
              "['https://www.24h.com.vn/tin-tuc-the-thao/sieu-hung-tranh-dau-mang-bat-ngo-toi-mien-tay-c684a1210601.html',\n",
              " 'https://www.24h.com.vn/the-thao/lich-thi-dau-livescore-tennis-hom-nay-c101a386333.html',\n",
              " 'https://www.24h.com.vn/the-thao-c101.html/bong-da-ngoai-hang-anh-c149.html',\n",
              " 'https://www.24h.com.vn/the-thao-c101.html/an-ninh-hinh-su-c51.html',\n",
              " 'https://www.24h.com.vn/bong-da-ngoai-hang-anh-c149.html',\n",
              " 'https://www.24h.com.vn/the-thao-c101.html/bong-da-c48.html',\n",
              " 'https://www.24h.com.vn/the-thao/fan-tennis-do-mat-vi-sharapova-thay-ao-giua-ban-ngay-bi-quay-trom-c101a1219728.html',\n",
              " 'https://eva.vn/thoi-trang-sao/tung-bi-chi-trich-vi-mac-vay-khoe-cap-tuyet-le-phan-cam-hoa-hau-9x-gio-ho-tinh-te-c269a462352.html',\n",
              " 'https://www.24h.com.vn/bong-da/truc-tiep-bong-da-ha-noi-binh-duong-vung-len-tim-lai-ban-sac-c48a1220176.html',\n",
              " 'https://www.24h.com.vn/ban-tre-cuoc-song/co-gai-19-tuoi-sinh-con-dan-luc-6-nguoi-dan-ong-den-xet-nghiem-adn-c64a1218648.html']"
            ]
          },
          "metadata": {
            "tags": []
          },
          "execution_count": 22
        }
      ]
    }
  ]
}