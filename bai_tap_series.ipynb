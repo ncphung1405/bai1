{
  "nbformat": 4,
  "nbformat_minor": 0,
  "metadata": {
    "kernelspec": {
      "display_name": "Python 3",
      "language": "python",
      "name": "python3"
    },
    "language_info": {
      "codemirror_mode": {
        "name": "ipython",
        "version": 3
      },
      "file_extension": ".py",
      "mimetype": "text/x-python",
      "name": "python",
      "nbconvert_exporter": "python",
      "pygments_lexer": "ipython3",
      "version": "3.7.3"
    },
    "colab": {
      "name": " bai_tap_series.ipynb",
      "provenance": [],
      "include_colab_link": true
    }
  },
  "cells": [
    {
      "cell_type": "markdown",
      "metadata": {
        "id": "view-in-github",
        "colab_type": "text"
      },
      "source": [
        "<a href=\"https://colab.research.google.com/github/ncphung1405/bai1/blob/main/bai_tap_series.ipynb\" target=\"_parent\"><img src=\"https://colab.research.google.com/assets/colab-badge.svg\" alt=\"Open In Colab\"/></a>"
      ]
    },
    {
      "cell_type": "markdown",
      "metadata": {
        "id": "3xrrAJMs6pZF"
      },
      "source": [
        "Câu 1: Hãy tạo 1 đối tượng kiểu Series có tối thiểu 10 phần tử (kiểu số) với giá trị tùy ý thích của bạn. \n",
        "       In giá trị của Series đó ra màn hình"
      ]
    },
    {
      "cell_type": "code",
      "metadata": {
        "id": "OguXjCEp6_mM"
      },
      "source": [
        "import numpy as np\r\n",
        "import pandas as pd"
      ],
      "execution_count": null,
      "outputs": []
    },
    {
      "cell_type": "code",
      "metadata": {
        "id": "pi3JR4dL6pZK",
        "colab": {
          "base_uri": "https://localhost:8080/"
        },
        "outputId": "405c28c1-40d5-4f39-a866-0bd9ff9ff97c"
      },
      "source": [
        "S = pd.Series(np.random.randint(100,size = 10))\r\n",
        "S"
      ],
      "execution_count": null,
      "outputs": [
        {
          "output_type": "execute_result",
          "data": {
            "text/plain": [
              "0    97\n",
              "1    71\n",
              "2    94\n",
              "3    41\n",
              "4    67\n",
              "5    81\n",
              "6    38\n",
              "7    27\n",
              "8    54\n",
              "9    59\n",
              "dtype: int64"
            ]
          },
          "metadata": {
            "tags": []
          },
          "execution_count": 7
        }
      ]
    },
    {
      "cell_type": "markdown",
      "metadata": {
        "id": "iH7EvhQu6pZK"
      },
      "source": [
        "Câu 2: Hãy tạo 1 đối tượng kiểu Series với giá trị khởi tạo hình thành từ dữ liệu kiểu Dictionary. In kết quả ra màn hình"
      ]
    },
    {
      "cell_type": "code",
      "metadata": {
        "id": "jQHlE8Us6pZL",
        "colab": {
          "base_uri": "https://localhost:8080/"
        },
        "outputId": "bc041c3c-e8bb-494a-bd86-83279836ffbb"
      },
      "source": [
        "dict_1 = {'tên':'Hùng', 'tuổi': 19, 'công việc': 'sinh viên'}\r\n",
        "D = pd.Series(dict_1)\r\n",
        "D"
      ],
      "execution_count": null,
      "outputs": [
        {
          "output_type": "execute_result",
          "data": {
            "text/plain": [
              "tên               Hùng\n",
              "tuổi                19\n",
              "công việc    sinh viên\n",
              "dtype: object"
            ]
          },
          "metadata": {
            "tags": []
          },
          "execution_count": 8
        }
      ]
    },
    {
      "cell_type": "markdown",
      "metadata": {
        "id": "_3T2EvIo6pZL"
      },
      "source": [
        "Câu 3: Sử dụng series ở câu 1, hãy thay đổi giá trị của cột index từ kiểu số theo kiểu ký tự với giá trị do bạn tự xác định."
      ]
    },
    {
      "cell_type": "code",
      "metadata": {
        "id": "S1fgHCjP6pZL",
        "colab": {
          "base_uri": "https://localhost:8080/"
        },
        "outputId": "19cdc196-d7a2-4d47-bf61-2def124b026b"
      },
      "source": [
        "S_id = []\r\n",
        "for i in S.index:\r\n",
        "    S_id.append(f'so thu {i}')\r\n",
        "S_2 = pd.Series(S.values, index=S_id)\r\n",
        "S_2"
      ],
      "execution_count": null,
      "outputs": [
        {
          "output_type": "execute_result",
          "data": {
            "text/plain": [
              "so thu 0     7\n",
              "so thu 1    70\n",
              "so thu 2    44\n",
              "so thu 3    62\n",
              "so thu 4    77\n",
              "so thu 5    25\n",
              "so thu 6    21\n",
              "so thu 7    55\n",
              "so thu 8    42\n",
              "so thu 9     9\n",
              "dtype: int64"
            ]
          },
          "metadata": {
            "tags": []
          },
          "execution_count": 88
        }
      ]
    },
    {
      "cell_type": "markdown",
      "metadata": {
        "id": "GEeFxHQI6pZL"
      },
      "source": [
        "Câu 4: Sử dụng series ở câu 2, hãy truy cập đến phần tử thứ 5 và in ra màn hình"
      ]
    },
    {
      "cell_type": "code",
      "metadata": {
        "id": "2_5u7xdU6pZM",
        "colab": {
          "base_uri": "https://localhost:8080/"
        },
        "outputId": "93f98bf1-fe8d-4ffa-91d1-43473c3721fa"
      },
      "source": [
        "print(D[4])"
      ],
      "execution_count": null,
      "outputs": [
        {
          "output_type": "stream",
          "text": [
            "MERCEDES\n"
          ],
          "name": "stdout"
        }
      ]
    },
    {
      "cell_type": "markdown",
      "metadata": {
        "id": "_4_melrW6pZM"
      },
      "source": [
        "Câu 5: Sử dụng series ở câu 3, hãy truy cập đến 1 phần tử dựa theo chỉ số kiểu ký tự do bạn lựa chọn và in ra màn hình"
      ]
    },
    {
      "cell_type": "code",
      "metadata": {
        "id": "-F4wIiPE6pZM",
        "colab": {
          "base_uri": "https://localhost:8080/"
        },
        "outputId": "d2b008c1-c4cf-409f-e2ef-56195dc4cfdd"
      },
      "source": [
        "print(S_2['so thu 2'])"
      ],
      "execution_count": null,
      "outputs": [
        {
          "output_type": "stream",
          "text": [
            "44\n"
          ],
          "name": "stdout"
        }
      ]
    },
    {
      "cell_type": "markdown",
      "metadata": {
        "id": "2HEizJ7u6pZM"
      },
      "source": [
        "Câu 6: Sử dụng series ở câu 3, hãy tìm ra tính chất đặc thù trong các chỉ số kiểu kí tự, thực hiện vòng lặp for duyệt trên các chỉ mục kiểu kí tự này để lọc ra những phần tử thỏa mãn điều kiện và in ra màn hình"
      ]
    },
    {
      "cell_type": "code",
      "metadata": {
        "id": "mE3ZA2YM6pZM",
        "colab": {
          "base_uri": "https://localhost:8080/"
        },
        "outputId": "bfba605a-5247-4acf-c1d2-9e5da180afc0"
      },
      "source": [
        "#Lấy các số thứ (0-4)\r\n",
        "S_2[[int(name[-1]) <4 for name in S_2.index]]"
      ],
      "execution_count": null,
      "outputs": [
        {
          "output_type": "execute_result",
          "data": {
            "text/plain": [
              "so thu 0     7\n",
              "so thu 1    70\n",
              "so thu 2    44\n",
              "so thu 3    62\n",
              "dtype: int64"
            ]
          },
          "metadata": {
            "tags": []
          },
          "execution_count": 91
        }
      ]
    },
    {
      "cell_type": "markdown",
      "metadata": {
        "id": "mFqNHPJF6pZN"
      },
      "source": [
        "Câu 7: Sử dụng series ở câu 1, hãy đổi tên cột index thành 'STT' và đặt tên cho series là 'Gia_tri'. In kết quả ra màn hình "
      ]
    },
    {
      "cell_type": "code",
      "metadata": {
        "id": "RunbOyMY6pZN",
        "colab": {
          "base_uri": "https://localhost:8080/"
        },
        "outputId": "d5d64615-8dd8-45cd-bf9e-7a35eb2a1c3c"
      },
      "source": [
        "S.index.name = 'STT'\r\n",
        "S.name = 'Gia_tri'\r\n",
        "S"
      ],
      "execution_count": null,
      "outputs": [
        {
          "output_type": "execute_result",
          "data": {
            "text/plain": [
              "STT\n",
              "0     7\n",
              "1    70\n",
              "2    44\n",
              "3    62\n",
              "4    77\n",
              "5    25\n",
              "6    21\n",
              "7    55\n",
              "8    42\n",
              "9     9\n",
              "Name: Gia_tri, dtype: int64"
            ]
          },
          "metadata": {
            "tags": []
          },
          "execution_count": 92
        }
      ]
    },
    {
      "cell_type": "markdown",
      "metadata": {
        "id": "p36u6Iyl6pZN"
      },
      "source": [
        "Câu 8: Hãy áp dụng hàm logarith của gói numpy với series ở câu 1 và in kết quả ra màn hình"
      ]
    },
    {
      "cell_type": "code",
      "metadata": {
        "id": "9kf3NA2V6pZN",
        "colab": {
          "base_uri": "https://localhost:8080/"
        },
        "outputId": "a9469120-a60e-4567-b5f7-0c243132dbfb"
      },
      "source": [
        "S_log = pd.Series([np.log(gt) for gt in S.values])\r\n",
        "S_log.name = 'logarith'\r\n",
        "S_log"
      ],
      "execution_count": null,
      "outputs": [
        {
          "output_type": "execute_result",
          "data": {
            "text/plain": [
              "0    1.945910\n",
              "1    4.248495\n",
              "2    3.784190\n",
              "3    4.127134\n",
              "4    4.343805\n",
              "5    3.218876\n",
              "6    3.044522\n",
              "7    4.007333\n",
              "8    3.737670\n",
              "9    2.197225\n",
              "Name: logarith, dtype: float64"
            ]
          },
          "metadata": {
            "tags": []
          },
          "execution_count": 93
        }
      ]
    },
    {
      "cell_type": "markdown",
      "metadata": {
        "id": "F_13hNEw6pZN"
      },
      "source": [
        "Câu 9: Lọc các giá trị của series 1 > 15 và in ra màn hình"
      ]
    },
    {
      "cell_type": "code",
      "metadata": {
        "id": "XFQr4T7Q6pZN",
        "colab": {
          "base_uri": "https://localhost:8080/"
        },
        "outputId": "652b69d9-88d7-4aad-fd25-f0c669a72885"
      },
      "source": [
        "S[S>15]"
      ],
      "execution_count": null,
      "outputs": [
        {
          "output_type": "execute_result",
          "data": {
            "text/plain": [
              "STT\n",
              "1    70\n",
              "2    44\n",
              "3    62\n",
              "4    77\n",
              "5    25\n",
              "6    21\n",
              "7    55\n",
              "8    42\n",
              "Name: Gia_tri, dtype: int64"
            ]
          },
          "metadata": {
            "tags": []
          },
          "execution_count": 94
        }
      ]
    }
  ]
}