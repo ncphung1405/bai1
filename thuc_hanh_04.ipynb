{
  "nbformat": 4,
  "nbformat_minor": 0,
  "metadata": {
    "kernelspec": {
      "display_name": "Python 3",
      "language": "python",
      "name": "python3"
    },
    "language_info": {
      "codemirror_mode": {
        "name": "ipython",
        "version": 3
      },
      "file_extension": ".py",
      "mimetype": "text/x-python",
      "name": "python",
      "nbconvert_exporter": "python",
      "pygments_lexer": "ipython3",
      "version": "3.7.3"
    },
    "colab": {
      "name": "thuc-hanh-04.ipynb",
      "provenance": [],
      "include_colab_link": true
    }
  },
  "cells": [
    {
      "cell_type": "markdown",
      "metadata": {
        "id": "view-in-github",
        "colab_type": "text"
      },
      "source": [
        "<a href=\"https://colab.research.google.com/github/ncphung1405/bai1/blob/main/thuc_hanh_04.ipynb\" target=\"_parent\"><img src=\"https://colab.research.google.com/assets/colab-badge.svg\" alt=\"Open In Colab\"/></a>"
      ]
    },
    {
      "cell_type": "markdown",
      "metadata": {
        "id": "ZD4E-wXOW2HN"
      },
      "source": [
        "THỰC HÀNH LAMBDA - APPLY\n",
        "\n",
        "1. Sử dụng bộ dữ liệu baseball.csv"
      ]
    },
    {
      "cell_type": "code",
      "metadata": {
        "id": "uxtIOujTW2HQ",
        "outputId": "c3ba80a2-c34c-4b3b-ca32-83d2ebfa9b4a",
        "colab": {
          "base_uri": "https://localhost:8080/",
          "height": 204
        }
      },
      "source": [
        "import pandas as pd\n",
        "\n",
        "df = pd.read_csv(\"haha.csv\")\n",
        "df.head()"
      ],
      "execution_count": 38,
      "outputs": [
        {
          "output_type": "execute_result",
          "data": {
            "text/html": [
              "<div>\n",
              "<style scoped>\n",
              "    .dataframe tbody tr th:only-of-type {\n",
              "        vertical-align: middle;\n",
              "    }\n",
              "\n",
              "    .dataframe tbody tr th {\n",
              "        vertical-align: top;\n",
              "    }\n",
              "\n",
              "    .dataframe thead th {\n",
              "        text-align: right;\n",
              "    }\n",
              "</style>\n",
              "<table border=\"1\" class=\"dataframe\">\n",
              "  <thead>\n",
              "    <tr style=\"text-align: right;\">\n",
              "      <th></th>\n",
              "      <th>id</th>\n",
              "      <th>player</th>\n",
              "      <th>year</th>\n",
              "      <th>stint</th>\n",
              "      <th>team</th>\n",
              "      <th>lg</th>\n",
              "      <th>g</th>\n",
              "      <th>ab</th>\n",
              "      <th>r</th>\n",
              "      <th>h</th>\n",
              "      <th>X2b</th>\n",
              "      <th>X3b</th>\n",
              "      <th>hr</th>\n",
              "      <th>rbi</th>\n",
              "      <th>sb</th>\n",
              "      <th>cs</th>\n",
              "      <th>bb</th>\n",
              "      <th>so</th>\n",
              "      <th>ibb</th>\n",
              "      <th>hbp</th>\n",
              "      <th>sh</th>\n",
              "      <th>sf</th>\n",
              "      <th>gidp</th>\n",
              "    </tr>\n",
              "  </thead>\n",
              "  <tbody>\n",
              "    <tr>\n",
              "      <th>0</th>\n",
              "      <td>88641</td>\n",
              "      <td>womacto01</td>\n",
              "      <td>2006</td>\n",
              "      <td>2</td>\n",
              "      <td>CHN</td>\n",
              "      <td>NL</td>\n",
              "      <td>19</td>\n",
              "      <td>50</td>\n",
              "      <td>6</td>\n",
              "      <td>14</td>\n",
              "      <td>1</td>\n",
              "      <td>0</td>\n",
              "      <td>1</td>\n",
              "      <td>2.0</td>\n",
              "      <td>1.0</td>\n",
              "      <td>1.0</td>\n",
              "      <td>4</td>\n",
              "      <td>4.0</td>\n",
              "      <td>0.0</td>\n",
              "      <td>0.0</td>\n",
              "      <td>3.0</td>\n",
              "      <td>0.0</td>\n",
              "      <td>0.0</td>\n",
              "    </tr>\n",
              "    <tr>\n",
              "      <th>1</th>\n",
              "      <td>88643</td>\n",
              "      <td>schilcu01</td>\n",
              "      <td>2006</td>\n",
              "      <td>1</td>\n",
              "      <td>BOS</td>\n",
              "      <td>AL</td>\n",
              "      <td>31</td>\n",
              "      <td>2</td>\n",
              "      <td>0</td>\n",
              "      <td>1</td>\n",
              "      <td>0</td>\n",
              "      <td>0</td>\n",
              "      <td>0</td>\n",
              "      <td>0.0</td>\n",
              "      <td>0.0</td>\n",
              "      <td>0.0</td>\n",
              "      <td>0</td>\n",
              "      <td>1.0</td>\n",
              "      <td>0.0</td>\n",
              "      <td>0.0</td>\n",
              "      <td>0.0</td>\n",
              "      <td>0.0</td>\n",
              "      <td>0.0</td>\n",
              "    </tr>\n",
              "    <tr>\n",
              "      <th>2</th>\n",
              "      <td>88645</td>\n",
              "      <td>myersmi01</td>\n",
              "      <td>2006</td>\n",
              "      <td>1</td>\n",
              "      <td>NYA</td>\n",
              "      <td>AL</td>\n",
              "      <td>62</td>\n",
              "      <td>0</td>\n",
              "      <td>0</td>\n",
              "      <td>0</td>\n",
              "      <td>0</td>\n",
              "      <td>0</td>\n",
              "      <td>0</td>\n",
              "      <td>0.0</td>\n",
              "      <td>0.0</td>\n",
              "      <td>0.0</td>\n",
              "      <td>0</td>\n",
              "      <td>0.0</td>\n",
              "      <td>0.0</td>\n",
              "      <td>0.0</td>\n",
              "      <td>0.0</td>\n",
              "      <td>0.0</td>\n",
              "      <td>0.0</td>\n",
              "    </tr>\n",
              "    <tr>\n",
              "      <th>3</th>\n",
              "      <td>88649</td>\n",
              "      <td>helliri01</td>\n",
              "      <td>2006</td>\n",
              "      <td>1</td>\n",
              "      <td>MIL</td>\n",
              "      <td>NL</td>\n",
              "      <td>20</td>\n",
              "      <td>3</td>\n",
              "      <td>0</td>\n",
              "      <td>0</td>\n",
              "      <td>0</td>\n",
              "      <td>0</td>\n",
              "      <td>0</td>\n",
              "      <td>0.0</td>\n",
              "      <td>0.0</td>\n",
              "      <td>0.0</td>\n",
              "      <td>0</td>\n",
              "      <td>2.0</td>\n",
              "      <td>0.0</td>\n",
              "      <td>0.0</td>\n",
              "      <td>0.0</td>\n",
              "      <td>0.0</td>\n",
              "      <td>0.0</td>\n",
              "    </tr>\n",
              "    <tr>\n",
              "      <th>4</th>\n",
              "      <td>88650</td>\n",
              "      <td>johnsra05</td>\n",
              "      <td>2006</td>\n",
              "      <td>1</td>\n",
              "      <td>NYA</td>\n",
              "      <td>AL</td>\n",
              "      <td>33</td>\n",
              "      <td>6</td>\n",
              "      <td>0</td>\n",
              "      <td>1</td>\n",
              "      <td>0</td>\n",
              "      <td>0</td>\n",
              "      <td>0</td>\n",
              "      <td>0.0</td>\n",
              "      <td>0.0</td>\n",
              "      <td>0.0</td>\n",
              "      <td>0</td>\n",
              "      <td>4.0</td>\n",
              "      <td>0.0</td>\n",
              "      <td>0.0</td>\n",
              "      <td>0.0</td>\n",
              "      <td>0.0</td>\n",
              "      <td>0.0</td>\n",
              "    </tr>\n",
              "  </tbody>\n",
              "</table>\n",
              "</div>"
            ],
            "text/plain": [
              "      id     player  year  stint team  lg  ...   so  ibb  hbp   sh   sf  gidp\n",
              "0  88641  womacto01  2006      2  CHN  NL  ...  4.0  0.0  0.0  3.0  0.0   0.0\n",
              "1  88643  schilcu01  2006      1  BOS  AL  ...  1.0  0.0  0.0  0.0  0.0   0.0\n",
              "2  88645  myersmi01  2006      1  NYA  AL  ...  0.0  0.0  0.0  0.0  0.0   0.0\n",
              "3  88649  helliri01  2006      1  MIL  NL  ...  2.0  0.0  0.0  0.0  0.0   0.0\n",
              "4  88650  johnsra05  2006      1  NYA  AL  ...  4.0  0.0  0.0  0.0  0.0   0.0\n",
              "\n",
              "[5 rows x 23 columns]"
            ]
          },
          "metadata": {
            "tags": []
          },
          "execution_count": 38
        }
      ]
    },
    {
      "cell_type": "markdown",
      "metadata": {
        "id": "xagbwACfW2HS"
      },
      "source": [
        "2. Hãy xây dựng hàm lambda theo công thức sau: $\\frac{x + log(x)}{\\sqrt(x)}$"
      ]
    },
    {
      "cell_type": "code",
      "metadata": {
        "id": "OWxWxbSeW2HS",
        "outputId": "e6d4e64e-8597-4555-b5f8-1c1541971739",
        "colab": {
          "base_uri": "https://localhost:8080/"
        }
      },
      "source": [
        "#Code\n",
        "remainder = lambda x: (x + np.log(x))/np.sqrt(x)\n",
        "\n",
        "print(remainder(5))"
      ],
      "execution_count": 37,
      "outputs": [
        {
          "output_type": "stream",
          "text": [
            "2.9558304930533903\n"
          ],
          "name": "stdout"
        }
      ]
    },
    {
      "cell_type": "markdown",
      "metadata": {
        "id": "OguNxqtPW2HT"
      },
      "source": [
        "3. Hãy thực thi hàm apply với lambda ở trên theo chiều ngang và chiều dọc đối với 1 Series do bạn chọn từ data frame ở bước 1"
      ]
    },
    {
      "cell_type": "code",
      "metadata": {
        "id": "31pn8LGyW2HU",
        "outputId": "ffcba852-5b39-4f3d-9812-d4fd8a59a1dd",
        "colab": {
          "base_uri": "https://localhost:8080/"
        }
      },
      "source": [
        "#Code\n",
        "\n",
        "df1 = df['ab'].apply(lambda x : remainder(x))\n",
        "df1.head()"
      ],
      "execution_count": 39,
      "outputs": [
        {
          "output_type": "execute_result",
          "data": {
            "text/plain": [
              "0    7.624311\n",
              "1    1.904343\n",
              "2        -inf\n",
              "3    2.366335\n",
              "4    3.180972\n",
              "Name: ab, dtype: float64"
            ]
          },
          "metadata": {
            "tags": []
          },
          "execution_count": 39
        }
      ]
    },
    {
      "cell_type": "markdown",
      "metadata": {
        "id": "XmR0JdILW2HU"
      },
      "source": [
        "4. Hãy thực thi hàm apply với lambda ở trên theo chiều ngang và chiều dọc với 1 nhóm cột (hoặc có thể là toàn bộ) của data frame ở bước 1"
      ]
    },
    {
      "cell_type": "code",
      "metadata": {
        "id": "3OBGDA_VW2HU",
        "outputId": "5f5232ac-399d-46d8-9a40-bfde3e9d8c8a",
        "colab": {
          "base_uri": "https://localhost:8080/"
        }
      },
      "source": [
        "#Code\n",
        "\n",
        "a = df[['sb','cs']].apply(lambda x : remainder(x), axis = 0)\n",
        "b = df[['sb','cs']].apply(lambda x : remainder(x), axis = 1)\n",
        "print(a)\n",
        "print(b)"
      ],
      "execution_count": 40,
      "outputs": [
        {
          "output_type": "stream",
          "text": [
            "          sb   cs\n",
            "0   1.000000  1.0\n",
            "1       -inf -inf\n",
            "2       -inf -inf\n",
            "3       -inf -inf\n",
            "4       -inf -inf\n",
            "..       ...  ...\n",
            "95      -inf -inf\n",
            "96      -inf -inf\n",
            "97  3.180972  1.0\n",
            "98  2.366335 -inf\n",
            "99      -inf -inf\n",
            "\n",
            "[100 rows x 2 columns]\n",
            "          sb   cs\n",
            "0   1.000000  1.0\n",
            "1       -inf -inf\n",
            "2       -inf -inf\n",
            "3       -inf -inf\n",
            "4       -inf -inf\n",
            "..       ...  ...\n",
            "95      -inf -inf\n",
            "96      -inf -inf\n",
            "97  3.180972  1.0\n",
            "98  2.366335 -inf\n",
            "99      -inf -inf\n",
            "\n",
            "[100 rows x 2 columns]\n"
          ],
          "name": "stdout"
        },
        {
          "output_type": "stream",
          "text": [
            "/usr/local/lib/python3.7/dist-packages/pandas/core/series.py:726: RuntimeWarning: divide by zero encountered in log\n",
            "  result = getattr(ufunc, method)(*inputs, **kwargs)\n"
          ],
          "name": "stderr"
        }
      ]
    },
    {
      "cell_type": "markdown",
      "metadata": {
        "id": "xzlxHyplW2HV"
      },
      "source": [
        "THỰC HÀNH APPLY VÀ HÀM TỰ XÂY DỰNG\n",
        "\n",
        "Trong thực tế không phải lúc nào cũng sử dụng lambda với apply, mà có thể sử dụng apply với các hàm có sẵn khác hoặc do lập trình viên tự xây dựng."
      ]
    },
    {
      "cell_type": "markdown",
      "metadata": {
        "id": "yyx02PTwW2HV"
      },
      "source": [
        "1. Hãy áp dụng nhóm hàm sum, mean, sqrt, log của thư viện numpy cho data frame ở trên theo chiều ngang và chiều dọc"
      ]
    },
    {
      "cell_type": "code",
      "metadata": {
        "id": "qLvPjr7XW2HW",
        "outputId": "6eb13bd9-9bf6-437d-b75b-abc8570c9197",
        "colab": {
          "base_uri": "https://localhost:8080/"
        }
      },
      "source": [
        "#Code\n",
        "\n",
        "a1 = df[['sb','cs']].apply(lambda x : np.sum(x), axis = 0)\n",
        "a2 = df[['sb','cs']].apply(lambda x : np.sum(x), axis = 1)\n",
        "b1 = df[['sb','cs']].apply(lambda x : np.mean(x), axis = 0)\n",
        "b2 = df[['sb','cs']].apply(lambda x : np.mean(x), axis = 1)\n",
        "c1 = df[['sb','cs']].apply(lambda x : np.sqrt(x), axis = 0)\n",
        "c2 = df[['sb','cs']].apply(lambda x : np.sqrt(x), axis = 1)\n",
        "d1 = df[['sb','cs']].apply(lambda x : np.log(x), axis = 0)\n",
        "d2 = df[['sb','cs']].apply(lambda x : np.log(x), axis = 1)\n",
        "print(a1)\n",
        "print(a2)\n",
        "print(b1)\n",
        "print(b2)\n",
        "print(c1)\n",
        "print(c2)\n",
        "print(d1)\n",
        "print(d2)"
      ],
      "execution_count": 41,
      "outputs": [
        {
          "output_type": "stream",
          "text": [
            "sb    138.0\n",
            "cs     46.0\n",
            "dtype: float64\n",
            "0     2.0\n",
            "1     0.0\n",
            "2     0.0\n",
            "3     0.0\n",
            "4     0.0\n",
            "     ... \n",
            "95    0.0\n",
            "96    0.0\n",
            "97    7.0\n",
            "98    3.0\n",
            "99    0.0\n",
            "Length: 100, dtype: float64\n",
            "sb    1.38\n",
            "cs    0.46\n",
            "dtype: float64\n",
            "0     1.0\n",
            "1     0.0\n",
            "2     0.0\n",
            "3     0.0\n",
            "4     0.0\n",
            "     ... \n",
            "95    0.0\n",
            "96    0.0\n",
            "97    3.5\n",
            "98    1.5\n",
            "99    0.0\n",
            "Length: 100, dtype: float64\n",
            "          sb   cs\n",
            "0   1.000000  1.0\n",
            "1   0.000000  0.0\n",
            "2   0.000000  0.0\n",
            "3   0.000000  0.0\n",
            "4   0.000000  0.0\n",
            "..       ...  ...\n",
            "95  0.000000  0.0\n",
            "96  0.000000  0.0\n",
            "97  2.449490  1.0\n",
            "98  1.732051  0.0\n",
            "99  0.000000  0.0\n",
            "\n",
            "[100 rows x 2 columns]\n",
            "          sb   cs\n",
            "0   1.000000  1.0\n",
            "1   0.000000  0.0\n",
            "2   0.000000  0.0\n",
            "3   0.000000  0.0\n",
            "4   0.000000  0.0\n",
            "..       ...  ...\n",
            "95  0.000000  0.0\n",
            "96  0.000000  0.0\n",
            "97  2.449490  1.0\n",
            "98  1.732051  0.0\n",
            "99  0.000000  0.0\n",
            "\n",
            "[100 rows x 2 columns]\n",
            "          sb   cs\n",
            "0   0.000000  0.0\n",
            "1       -inf -inf\n",
            "2       -inf -inf\n",
            "3       -inf -inf\n",
            "4       -inf -inf\n",
            "..       ...  ...\n",
            "95      -inf -inf\n",
            "96      -inf -inf\n",
            "97  1.791759  0.0\n",
            "98  1.098612 -inf\n",
            "99      -inf -inf\n",
            "\n",
            "[100 rows x 2 columns]\n",
            "          sb   cs\n",
            "0   0.000000  0.0\n",
            "1       -inf -inf\n",
            "2       -inf -inf\n",
            "3       -inf -inf\n",
            "4       -inf -inf\n",
            "..       ...  ...\n",
            "95      -inf -inf\n",
            "96      -inf -inf\n",
            "97  1.791759  0.0\n",
            "98  1.098612 -inf\n",
            "99      -inf -inf\n",
            "\n",
            "[100 rows x 2 columns]\n"
          ],
          "name": "stdout"
        },
        {
          "output_type": "stream",
          "text": [
            "/usr/local/lib/python3.7/dist-packages/pandas/core/series.py:726: RuntimeWarning: divide by zero encountered in log\n",
            "  result = getattr(ufunc, method)(*inputs, **kwargs)\n"
          ],
          "name": "stderr"
        }
      ]
    },
    {
      "cell_type": "markdown",
      "metadata": {
        "id": "H2RHjT1VW2HW"
      },
      "source": [
        "2. Hãy xây dựng một hàm có tên là my_function có tham số đầu vào là x. Phương pháp tính toán của hàm như sau:\n",
        " (i) Nếu x >0  thì trả về log10(x); (ii) Nếu x <= 0  thì trả về $e^{x}$"
      ]
    },
    {
      "cell_type": "code",
      "metadata": {
        "id": "GhnQ6ytdW2HX",
        "outputId": "96d5e65a-3492-48bd-ffa6-7ae8ffd80ca0",
        "colab": {
          "base_uri": "https://localhost:8080/"
        }
      },
      "source": [
        "#Code\n",
        "my_function = lambda x: np.log10(x) if x>0 else np.exp(x)\n",
        "my_function(-1)"
      ],
      "execution_count": 42,
      "outputs": [
        {
          "output_type": "execute_result",
          "data": {
            "text/plain": [
              "0.36787944117144233"
            ]
          },
          "metadata": {
            "tags": []
          },
          "execution_count": 42
        }
      ]
    },
    {
      "cell_type": "markdown",
      "metadata": {
        "id": "e3eKN4e3W2HX"
      },
      "source": [
        "3. Hãy sử dụng hàm apply để gọi my_function áp dụng cho data frame ở bước 1 ở trên"
      ]
    },
    {
      "cell_type": "code",
      "metadata": {
        "id": "yfMonFeRW2HX",
        "outputId": "ff7b38cd-5883-4e45-808c-4a652bfbfc6a",
        "colab": {
          "base_uri": "https://localhost:8080/"
        }
      },
      "source": [
        "\n",
        "df['so'].apply(lambda x: my_function(x))"
      ],
      "execution_count": 44,
      "outputs": [
        {
          "output_type": "execute_result",
          "data": {
            "text/plain": [
              "0     0.602060\n",
              "1     0.000000\n",
              "2     1.000000\n",
              "3     0.301030\n",
              "4     0.602060\n",
              "        ...   \n",
              "95    1.000000\n",
              "96    1.000000\n",
              "97    1.869232\n",
              "98    1.477121\n",
              "99    0.477121\n",
              "Name: so, Length: 100, dtype: float64"
            ]
          },
          "metadata": {
            "tags": []
          },
          "execution_count": 44
        }
      ]
    }
  ]
}